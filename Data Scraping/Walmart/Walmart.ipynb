{
 "cells": [
  {
   "cell_type": "markdown",
   "metadata": {},
   "source": [
    "# Walmart Data Scraping using Selenium"
   ]
  },
  {
   "cell_type": "markdown",
   "metadata": {},
   "source": [
    "This experiment was realised following the following guide by Stephen Fordham: <br>\n",
    "(https://towardsdatascience.com/simple-web-scraping-with-pythons-selenium-4cedc52798cd)"
   ]
  },
  {
   "cell_type": "markdown",
   "metadata": {},
   "source": [
    "## Data Scraping"
   ]
  },
  {
   "cell_type": "code",
   "execution_count": 1,
   "metadata": {},
   "outputs": [],
   "source": [
    "from selenium import webdriver\n",
    "from selenium.common import exceptions\n",
    "import pandas as pd\n",
    "import matplotlib.pyplot as plt\n",
    "import seaborn as sns"
   ]
  },
  {
   "cell_type": "code",
   "execution_count": 2,
   "metadata": {},
   "outputs": [],
   "source": [
    "browser = webdriver.Chrome('chromedriver.exe')\n",
    "browser.get('https://www.walmart.com/c/kp/beach-ball')"
   ]
  },
  {
   "cell_type": "code",
   "execution_count": 3,
   "metadata": {},
   "outputs": [],
   "source": [
    "desc_list =[]\n",
    "price_list = []\n",
    "\n",
    "i = 0\n",
    "while i < 5:\n",
    "    try:\n",
    "        beach_balls = browser.find_elements_by_css_selector('li.Grid-col.u-size-1-4-l.u-size-3-12-m.u-size-6-12.u-size-1-5-xl')\n",
    "\n",
    "        for ball in beach_balls:\n",
    "            desc = ball.find_element_by_css_selector('h2.prod-ProductTitle.no-margin.truncated.heading-b').text\n",
    "            price = ball.find_element_by_css_selector('div.search-result-productprice.gridview').text.lstrip('Price\\n')\n",
    "\n",
    "            desc_list.append(desc)\n",
    "            price_list.append(price)\n",
    "\n",
    "        browser.find_element_by_css_selector('button.paginator-btn.paginator-btn-next').click()\n",
    "        i += 1\n",
    "\n",
    "    except exceptions.StaleElementReferenceException:\n",
    "         pass"
   ]
  },
  {
   "cell_type": "markdown",
   "metadata": {},
   "source": [
    "### Saving scraped data in a csv file"
   ]
  },
  {
   "cell_type": "code",
   "execution_count": 4,
   "metadata": {},
   "outputs": [],
   "source": [
    "df = pd.DataFrame(list(zip(desc_list, price_list)), columns=['Beach_ball', 'Item_Price'])\n",
    "\n",
    "data = df.to_csv('Waltmart_Selenium.csv', index=False)"
   ]
  },
  {
   "cell_type": "markdown",
   "metadata": {},
   "source": [
    "## Data Preprocessing"
   ]
  },
  {
   "cell_type": "code",
   "execution_count": 5,
   "metadata": {},
   "outputs": [
    {
     "data": {
      "text/html": [
       "<div>\n",
       "<style scoped>\n",
       "    .dataframe tbody tr th:only-of-type {\n",
       "        vertical-align: middle;\n",
       "    }\n",
       "\n",
       "    .dataframe tbody tr th {\n",
       "        vertical-align: top;\n",
       "    }\n",
       "\n",
       "    .dataframe thead th {\n",
       "        text-align: right;\n",
       "    }\n",
       "</style>\n",
       "<table border=\"1\" class=\"dataframe\">\n",
       "  <thead>\n",
       "    <tr style=\"text-align: right;\">\n",
       "      <th></th>\n",
       "      <th>Beach_ball</th>\n",
       "      <th>Item_Price</th>\n",
       "    </tr>\n",
       "  </thead>\n",
       "  <tbody>\n",
       "    <tr>\n",
       "      <th>0</th>\n",
       "      <td>20\" Colorful 6-Panel Circle Print Inflatable B...</td>\n",
       "      <td>$4.49</td>\n",
       "    </tr>\n",
       "    <tr>\n",
       "      <th>1</th>\n",
       "      <td>Pool Central 20\" Inflatable 6-Panel Flower Pri...</td>\n",
       "      <td>$4.49List price $7.99\\nSave  $3.50</td>\n",
       "    </tr>\n",
       "    <tr>\n",
       "      <th>2</th>\n",
       "      <td>Pool Central 16\" Inflatable Volleyball Designe...</td>\n",
       "      <td>$3.49</td>\n",
       "    </tr>\n",
       "    <tr>\n",
       "      <th>3</th>\n",
       "      <td>Pool Central 16\" Inflatable Soccer Designed Be...</td>\n",
       "      <td>$3.49</td>\n",
       "    </tr>\n",
       "    <tr>\n",
       "      <th>4</th>\n",
       "      <td>20\" Colorful 6-Panel Star Print Inflatable Bea...</td>\n",
       "      <td>$4.49List price $7.99\\nSave  $3.50</td>\n",
       "    </tr>\n",
       "  </tbody>\n",
       "</table>\n",
       "</div>"
      ],
      "text/plain": [
       "                                          Beach_ball  \\\n",
       "0  20\" Colorful 6-Panel Circle Print Inflatable B...   \n",
       "1  Pool Central 20\" Inflatable 6-Panel Flower Pri...   \n",
       "2  Pool Central 16\" Inflatable Volleyball Designe...   \n",
       "3  Pool Central 16\" Inflatable Soccer Designed Be...   \n",
       "4  20\" Colorful 6-Panel Star Print Inflatable Bea...   \n",
       "\n",
       "                           Item_Price  \n",
       "0                               $4.49  \n",
       "1  $4.49List price $7.99\\nSave  $3.50  \n",
       "2                               $3.49  \n",
       "3                               $3.49  \n",
       "4  $4.49List price $7.99\\nSave  $3.50  "
      ]
     },
     "execution_count": 5,
     "metadata": {},
     "output_type": "execute_result"
    }
   ],
   "source": [
    "df.head()"
   ]
  },
  {
   "cell_type": "code",
   "execution_count": 6,
   "metadata": {},
   "outputs": [
    {
     "data": {
      "text/plain": [
       "0                                     $4.49\n",
       "1        $4.49List price $7.99\\nSave  $3.50\n",
       "2                                     $3.49\n",
       "3                                     $3.49\n",
       "4        $4.49List price $7.99\\nSave  $3.50\n",
       "5                                     $8.39\n",
       "6      $28.99List price $30.99\\nSave  $2.00\n",
       "7                                    $13.99\n",
       "8                                     $3.00\n",
       "9                            $6.41 - $12.62\n",
       "10                                    $6.99\n",
       "11      $4.98List price $10.61\\nSave  $5.63\n",
       "12                                    $4.99\n",
       "13                                    $6.59\n",
       "14                                   $13.69\n",
       "15                                    $8.48\n",
       "16       $3.49List price $5.49\\nSave  $2.00\n",
       "17                                    $6.70\n",
       "18                                   $14.95\n",
       "19                                    $7.49\n",
       "20                                   $20.99\n",
       "21                                    $9.83\n",
       "22                                   $14.43\n",
       "23                                    $8.42\n",
       "24     $13.49List price $16.99\\nSave  $3.50\n",
       "25                                   $10.49\n",
       "26      $5.17List price $11.48\\nSave  $6.31\n",
       "27                                    $6.52\n",
       "28     $19.99List price $24.99\\nSave  $5.00\n",
       "29                                   $19.88\n",
       "                       ...                 \n",
       "170                                  $15.03\n",
       "171                                  $22.59\n",
       "172                                  $18.60\n",
       "173                                  $16.97\n",
       "174                                  $28.27\n",
       "175     $7.49List price $12.49\\nSave  $5.00\n",
       "176                                  $10.09\n",
       "177                                   $9.13\n",
       "178                                  $77.50\n",
       "179                                  $12.19\n",
       "180    $15.18List price $20.18\\nSave  $5.00\n",
       "181                                  $14.64\n",
       "182                                  $19.39\n",
       "183                                  $21.47\n",
       "184                                  $12.19\n",
       "185    $14.09List price $19.09\\nSave  $5.00\n",
       "186    $14.62List price $19.62\\nSave  $5.00\n",
       "187     $7.49List price $12.49\\nSave  $5.00\n",
       "188                                  $19.39\n",
       "189                                   $9.09\n",
       "190                                   $4.99\n",
       "191                                  $11.19\n",
       "192                                  $19.78\n",
       "193                                   $9.09\n",
       "194                                  $11.19\n",
       "195                                  $13.49\n",
       "196                                  $19.39\n",
       "197                                  $15.29\n",
       "198     $6.25List price $11.25\\nSave  $5.00\n",
       "199                                  $19.39\n",
       "Name: Item_Price, Length: 200, dtype: object"
      ]
     },
     "execution_count": 6,
     "metadata": {},
     "output_type": "execute_result"
    }
   ],
   "source": [
    "df.iloc[:, 1]"
   ]
  },
  {
   "cell_type": "code",
   "execution_count": 7,
   "metadata": {},
   "outputs": [
    {
     "name": "stdout",
     "output_type": "stream",
     "text": [
      "object\n",
      "object\n"
     ]
    },
    {
     "data": {
      "text/plain": [
       "0      <class 'str'>\n",
       "1      <class 'str'>\n",
       "2      <class 'str'>\n",
       "3      <class 'str'>\n",
       "4      <class 'str'>\n",
       "5      <class 'str'>\n",
       "6      <class 'str'>\n",
       "7      <class 'str'>\n",
       "8      <class 'str'>\n",
       "9      <class 'str'>\n",
       "10     <class 'str'>\n",
       "11     <class 'str'>\n",
       "12     <class 'str'>\n",
       "13     <class 'str'>\n",
       "14     <class 'str'>\n",
       "15     <class 'str'>\n",
       "16     <class 'str'>\n",
       "17     <class 'str'>\n",
       "18     <class 'str'>\n",
       "19     <class 'str'>\n",
       "20     <class 'str'>\n",
       "21     <class 'str'>\n",
       "22     <class 'str'>\n",
       "23     <class 'str'>\n",
       "24     <class 'str'>\n",
       "25     <class 'str'>\n",
       "26     <class 'str'>\n",
       "27     <class 'str'>\n",
       "28     <class 'str'>\n",
       "29     <class 'str'>\n",
       "           ...      \n",
       "170    <class 'str'>\n",
       "171    <class 'str'>\n",
       "172    <class 'str'>\n",
       "173    <class 'str'>\n",
       "174    <class 'str'>\n",
       "175    <class 'str'>\n",
       "176    <class 'str'>\n",
       "177    <class 'str'>\n",
       "178    <class 'str'>\n",
       "179    <class 'str'>\n",
       "180    <class 'str'>\n",
       "181    <class 'str'>\n",
       "182    <class 'str'>\n",
       "183    <class 'str'>\n",
       "184    <class 'str'>\n",
       "185    <class 'str'>\n",
       "186    <class 'str'>\n",
       "187    <class 'str'>\n",
       "188    <class 'str'>\n",
       "189    <class 'str'>\n",
       "190    <class 'str'>\n",
       "191    <class 'str'>\n",
       "192    <class 'str'>\n",
       "193    <class 'str'>\n",
       "194    <class 'str'>\n",
       "195    <class 'str'>\n",
       "196    <class 'str'>\n",
       "197    <class 'str'>\n",
       "198    <class 'str'>\n",
       "199    <class 'str'>\n",
       "Name: Item_Price, Length: 200, dtype: object"
      ]
     },
     "execution_count": 7,
     "metadata": {},
     "output_type": "execute_result"
    }
   ],
   "source": [
    "print(df['Item_Price'].dtypes)\n",
    "df[['Item_Price']] = df[['Item_Price']].astype(str)\n",
    "print(df['Item_Price'].dtypes)\n",
    "df.astype(str)['Item_Price'].map(lambda x:  type(x))"
   ]
  },
  {
   "cell_type": "code",
   "execution_count": 8,
   "metadata": {},
   "outputs": [
    {
     "name": "stdout",
     "output_type": "stream",
     "text": [
      "(200, 2)\n"
     ]
    },
    {
     "data": {
      "text/html": [
       "<div>\n",
       "<style scoped>\n",
       "    .dataframe tbody tr th:only-of-type {\n",
       "        vertical-align: middle;\n",
       "    }\n",
       "\n",
       "    .dataframe tbody tr th {\n",
       "        vertical-align: top;\n",
       "    }\n",
       "\n",
       "    .dataframe thead th {\n",
       "        text-align: right;\n",
       "    }\n",
       "</style>\n",
       "<table border=\"1\" class=\"dataframe\">\n",
       "  <thead>\n",
       "    <tr style=\"text-align: right;\">\n",
       "      <th></th>\n",
       "      <th>Beach_ball</th>\n",
       "      <th>Item_Price</th>\n",
       "    </tr>\n",
       "  </thead>\n",
       "  <tbody>\n",
       "    <tr>\n",
       "      <th>0</th>\n",
       "      <td>20\" Colorful 6-Panel Circle Print Inflatable B...</td>\n",
       "      <td>4.49</td>\n",
       "    </tr>\n",
       "    <tr>\n",
       "      <th>1</th>\n",
       "      <td>Pool Central 20\" Inflatable 6-Panel Flower Pri...</td>\n",
       "      <td>4.49List price $7.99\\nSave  $3.50</td>\n",
       "    </tr>\n",
       "    <tr>\n",
       "      <th>2</th>\n",
       "      <td>Pool Central 16\" Inflatable Volleyball Designe...</td>\n",
       "      <td>3.49</td>\n",
       "    </tr>\n",
       "    <tr>\n",
       "      <th>3</th>\n",
       "      <td>Pool Central 16\" Inflatable Soccer Designed Be...</td>\n",
       "      <td>3.49</td>\n",
       "    </tr>\n",
       "    <tr>\n",
       "      <th>4</th>\n",
       "      <td>20\" Colorful 6-Panel Star Print Inflatable Bea...</td>\n",
       "      <td>4.49List price $7.99\\nSave  $3.50</td>\n",
       "    </tr>\n",
       "    <tr>\n",
       "      <th>5</th>\n",
       "      <td>Swimline Inflatable 36-Inch Classic Rainbow Be...</td>\n",
       "      <td>8.39</td>\n",
       "    </tr>\n",
       "    <tr>\n",
       "      <th>6</th>\n",
       "      <td>Intex Jumbo Inflatable Big Panel Colorful Gian...</td>\n",
       "      <td>28.99List price $30.99\\nSave  $2.00</td>\n",
       "    </tr>\n",
       "    <tr>\n",
       "      <th>7</th>\n",
       "      <td>12-Pack of Inflatable Beach Balls with Air Pum...</td>\n",
       "      <td>13.99</td>\n",
       "    </tr>\n",
       "    <tr>\n",
       "      <th>8</th>\n",
       "      <td>H2OGO! 18\" Fruit Beach Balls, Kiwi</td>\n",
       "      <td>3.00</td>\n",
       "    </tr>\n",
       "    <tr>\n",
       "      <th>9</th>\n",
       "      <td>Waverunner Beach Ball, Available in Various Co...</td>\n",
       "      <td>6.41 - $12.62</td>\n",
       "    </tr>\n",
       "  </tbody>\n",
       "</table>\n",
       "</div>"
      ],
      "text/plain": [
       "                                          Beach_ball  \\\n",
       "0  20\" Colorful 6-Panel Circle Print Inflatable B...   \n",
       "1  Pool Central 20\" Inflatable 6-Panel Flower Pri...   \n",
       "2  Pool Central 16\" Inflatable Volleyball Designe...   \n",
       "3  Pool Central 16\" Inflatable Soccer Designed Be...   \n",
       "4  20\" Colorful 6-Panel Star Print Inflatable Bea...   \n",
       "5  Swimline Inflatable 36-Inch Classic Rainbow Be...   \n",
       "6  Intex Jumbo Inflatable Big Panel Colorful Gian...   \n",
       "7  12-Pack of Inflatable Beach Balls with Air Pum...   \n",
       "8                 H2OGO! 18\" Fruit Beach Balls, Kiwi   \n",
       "9  Waverunner Beach Ball, Available in Various Co...   \n",
       "\n",
       "                            Item_Price  \n",
       "0                                 4.49  \n",
       "1    4.49List price $7.99\\nSave  $3.50  \n",
       "2                                 3.49  \n",
       "3                                 3.49  \n",
       "4    4.49List price $7.99\\nSave  $3.50  \n",
       "5                                 8.39  \n",
       "6  28.99List price $30.99\\nSave  $2.00  \n",
       "7                                13.99  \n",
       "8                                 3.00  \n",
       "9                        6.41 - $12.62  "
      ]
     },
     "execution_count": 8,
     "metadata": {},
     "output_type": "execute_result"
    }
   ],
   "source": [
    "num = 0\n",
    "\n",
    "for i in df.astype(str)['Item_Price']:\n",
    "    df.iloc[num,1] = i.split('$', 1)[-1]\n",
    "    num += 1\n",
    "    \n",
    "print(df.shape)\n",
    "df.head(10)"
   ]
  },
  {
   "cell_type": "code",
   "execution_count": 9,
   "metadata": {},
   "outputs": [
    {
     "name": "stdout",
     "output_type": "stream",
     "text": [
      "(161, 2)\n"
     ]
    },
    {
     "data": {
      "text/html": [
       "<div>\n",
       "<style scoped>\n",
       "    .dataframe tbody tr th:only-of-type {\n",
       "        vertical-align: middle;\n",
       "    }\n",
       "\n",
       "    .dataframe tbody tr th {\n",
       "        vertical-align: top;\n",
       "    }\n",
       "\n",
       "    .dataframe thead th {\n",
       "        text-align: right;\n",
       "    }\n",
       "</style>\n",
       "<table border=\"1\" class=\"dataframe\">\n",
       "  <thead>\n",
       "    <tr style=\"text-align: right;\">\n",
       "      <th></th>\n",
       "      <th>Beach_ball</th>\n",
       "      <th>Item_Price</th>\n",
       "    </tr>\n",
       "  </thead>\n",
       "  <tbody>\n",
       "    <tr>\n",
       "      <th>0</th>\n",
       "      <td>20\" Colorful 6-Panel Circle Print Inflatable B...</td>\n",
       "      <td>4.49</td>\n",
       "    </tr>\n",
       "    <tr>\n",
       "      <th>2</th>\n",
       "      <td>Pool Central 16\" Inflatable Volleyball Designe...</td>\n",
       "      <td>3.49</td>\n",
       "    </tr>\n",
       "    <tr>\n",
       "      <th>3</th>\n",
       "      <td>Pool Central 16\" Inflatable Soccer Designed Be...</td>\n",
       "      <td>3.49</td>\n",
       "    </tr>\n",
       "    <tr>\n",
       "      <th>5</th>\n",
       "      <td>Swimline Inflatable 36-Inch Classic Rainbow Be...</td>\n",
       "      <td>8.39</td>\n",
       "    </tr>\n",
       "    <tr>\n",
       "      <th>7</th>\n",
       "      <td>12-Pack of Inflatable Beach Balls with Air Pum...</td>\n",
       "      <td>13.99</td>\n",
       "    </tr>\n",
       "  </tbody>\n",
       "</table>\n",
       "</div>"
      ],
      "text/plain": [
       "                                          Beach_ball Item_Price\n",
       "0  20\" Colorful 6-Panel Circle Print Inflatable B...       4.49\n",
       "2  Pool Central 16\" Inflatable Volleyball Designe...       3.49\n",
       "3  Pool Central 16\" Inflatable Soccer Designed Be...       3.49\n",
       "5  Swimline Inflatable 36-Inch Classic Rainbow Be...       8.39\n",
       "7  12-Pack of Inflatable Beach Balls with Air Pum...      13.99"
      ]
     },
     "execution_count": 9,
     "metadata": {},
     "output_type": "execute_result"
    }
   ],
   "source": [
    "df = df[~df.Item_Price.str.contains(\"Save\")]\n",
    "print(df.shape)\n",
    "df.head()"
   ]
  },
  {
   "cell_type": "code",
   "execution_count": 10,
   "metadata": {},
   "outputs": [
    {
     "name": "stdout",
     "output_type": "stream",
     "text": [
      "(152, 2)\n"
     ]
    },
    {
     "data": {
      "text/html": [
       "<div>\n",
       "<style scoped>\n",
       "    .dataframe tbody tr th:only-of-type {\n",
       "        vertical-align: middle;\n",
       "    }\n",
       "\n",
       "    .dataframe tbody tr th {\n",
       "        vertical-align: top;\n",
       "    }\n",
       "\n",
       "    .dataframe thead th {\n",
       "        text-align: right;\n",
       "    }\n",
       "</style>\n",
       "<table border=\"1\" class=\"dataframe\">\n",
       "  <thead>\n",
       "    <tr style=\"text-align: right;\">\n",
       "      <th></th>\n",
       "      <th>Beach_ball</th>\n",
       "      <th>Item_Price</th>\n",
       "    </tr>\n",
       "  </thead>\n",
       "  <tbody>\n",
       "    <tr>\n",
       "      <th>0</th>\n",
       "      <td>20\" Colorful 6-Panel Circle Print Inflatable B...</td>\n",
       "      <td>4.49</td>\n",
       "    </tr>\n",
       "    <tr>\n",
       "      <th>2</th>\n",
       "      <td>Pool Central 16\" Inflatable Volleyball Designe...</td>\n",
       "      <td>3.49</td>\n",
       "    </tr>\n",
       "    <tr>\n",
       "      <th>3</th>\n",
       "      <td>Pool Central 16\" Inflatable Soccer Designed Be...</td>\n",
       "      <td>3.49</td>\n",
       "    </tr>\n",
       "    <tr>\n",
       "      <th>5</th>\n",
       "      <td>Swimline Inflatable 36-Inch Classic Rainbow Be...</td>\n",
       "      <td>8.39</td>\n",
       "    </tr>\n",
       "    <tr>\n",
       "      <th>7</th>\n",
       "      <td>12-Pack of Inflatable Beach Balls with Air Pum...</td>\n",
       "      <td>13.99</td>\n",
       "    </tr>\n",
       "  </tbody>\n",
       "</table>\n",
       "</div>"
      ],
      "text/plain": [
       "                                          Beach_ball Item_Price\n",
       "0  20\" Colorful 6-Panel Circle Print Inflatable B...       4.49\n",
       "2  Pool Central 16\" Inflatable Volleyball Designe...       3.49\n",
       "3  Pool Central 16\" Inflatable Soccer Designed Be...       3.49\n",
       "5  Swimline Inflatable 36-Inch Classic Rainbow Be...       8.39\n",
       "7  12-Pack of Inflatable Beach Balls with Air Pum...      13.99"
      ]
     },
     "execution_count": 10,
     "metadata": {},
     "output_type": "execute_result"
    }
   ],
   "source": [
    "df = df[~df.Item_Price.str.contains(\"-\")]\n",
    "print(df.shape)\n",
    "df.head()"
   ]
  },
  {
   "cell_type": "code",
   "execution_count": 11,
   "metadata": {},
   "outputs": [
    {
     "name": "stdout",
     "output_type": "stream",
     "text": [
      "(151, 2)\n"
     ]
    },
    {
     "data": {
      "text/html": [
       "<div>\n",
       "<style scoped>\n",
       "    .dataframe tbody tr th:only-of-type {\n",
       "        vertical-align: middle;\n",
       "    }\n",
       "\n",
       "    .dataframe tbody tr th {\n",
       "        vertical-align: top;\n",
       "    }\n",
       "\n",
       "    .dataframe thead th {\n",
       "        text-align: right;\n",
       "    }\n",
       "</style>\n",
       "<table border=\"1\" class=\"dataframe\">\n",
       "  <thead>\n",
       "    <tr style=\"text-align: right;\">\n",
       "      <th></th>\n",
       "      <th>Beach_ball</th>\n",
       "      <th>Item_Price</th>\n",
       "    </tr>\n",
       "  </thead>\n",
       "  <tbody>\n",
       "    <tr>\n",
       "      <th>0</th>\n",
       "      <td>20\" Colorful 6-Panel Circle Print Inflatable B...</td>\n",
       "      <td>4.49</td>\n",
       "    </tr>\n",
       "    <tr>\n",
       "      <th>2</th>\n",
       "      <td>Pool Central 16\" Inflatable Volleyball Designe...</td>\n",
       "      <td>3.49</td>\n",
       "    </tr>\n",
       "    <tr>\n",
       "      <th>3</th>\n",
       "      <td>Pool Central 16\" Inflatable Soccer Designed Be...</td>\n",
       "      <td>3.49</td>\n",
       "    </tr>\n",
       "    <tr>\n",
       "      <th>5</th>\n",
       "      <td>Swimline Inflatable 36-Inch Classic Rainbow Be...</td>\n",
       "      <td>8.39</td>\n",
       "    </tr>\n",
       "    <tr>\n",
       "      <th>7</th>\n",
       "      <td>12-Pack of Inflatable Beach Balls with Air Pum...</td>\n",
       "      <td>13.99</td>\n",
       "    </tr>\n",
       "  </tbody>\n",
       "</table>\n",
       "</div>"
      ],
      "text/plain": [
       "                                          Beach_ball Item_Price\n",
       "0  20\" Colorful 6-Panel Circle Print Inflatable B...       4.49\n",
       "2  Pool Central 16\" Inflatable Volleyball Designe...       3.49\n",
       "3  Pool Central 16\" Inflatable Soccer Designed Be...       3.49\n",
       "5  Swimline Inflatable 36-Inch Classic Rainbow Be...       8.39\n",
       "7  12-Pack of Inflatable Beach Balls with Air Pum...      13.99"
      ]
     },
     "execution_count": 11,
     "metadata": {},
     "output_type": "execute_result"
    }
   ],
   "source": [
    "df = df[~df.Item_Price.str.contains(\"stock\")]\n",
    "print(df.shape)\n",
    "df.head()"
   ]
  },
  {
   "cell_type": "code",
   "execution_count": 12,
   "metadata": {},
   "outputs": [],
   "source": [
    "df[['Item_Price']] = df[['Item_Price']].astype(float)"
   ]
  },
  {
   "cell_type": "markdown",
   "metadata": {},
   "source": [
    "## Data Analysis"
   ]
  },
  {
   "cell_type": "code",
   "execution_count": 13,
   "metadata": {},
   "outputs": [
    {
     "name": "stderr",
     "output_type": "stream",
     "text": [
      "C:\\Users\\hp\\Anaconda3\\lib\\site-packages\\scipy\\stats\\stats.py:1713: FutureWarning: Using a non-tuple sequence for multidimensional indexing is deprecated; use `arr[tuple(seq)]` instead of `arr[seq]`. In the future this will be interpreted as an array index, `arr[np.array(seq)]`, which will result either in an error or a different result.\n",
      "  return np.add.reduce(sorted[indexer] * weights, axis=axis) / sumval\n"
     ]
    },
    {
     "data": {
      "text/plain": [
       "<matplotlib.axes._subplots.AxesSubplot at 0x23805de5518>"
      ]
     },
     "execution_count": 13,
     "metadata": {},
     "output_type": "execute_result"
    },
    {
     "data": {
      "image/png": "[encoded data removed]",
      "text/plain": [
       "<Figure size 432x288 with 1 Axes>"
      ]
     },
     "metadata": {
      "needs_background": "light"
     },
     "output_type": "display_data"
    }
   ],
   "source": [
    "sns.distplot(df['Item_Price'])"
   ]
  },
  {
   "cell_type": "code",
   "execution_count": 14,
   "metadata": {},
   "outputs": [
    {
     "data": {
      "text/plain": [
       "(array([114.,  28.,   2.,   2.,   1.,   1.,   0.,   2.,   0.,   1.]),\n",
       " array([  1.31 ,  18.778,  36.246,  53.714,  71.182,  88.65 , 106.118,\n",
       "        123.586, 141.054, 158.522, 175.99 ]),\n",
       " <a list of 10 Patch objects>)"
      ]
     },
     "execution_count": 14,
     "metadata": {},
     "output_type": "execute_result"
    },
    {
     "data": {
      "image/png": "[encoded data removed]",
      "text/plain": [
       "<Figure size 432x288 with 1 Axes>"
      ]
     },
     "metadata": {
      "needs_background": "light"
     },
     "output_type": "display_data"
    }
   ],
   "source": [
    "plt.hist(df['Item_Price'])"
   ]
  },
  {
   "cell_type": "code",
   "execution_count": 15,
   "metadata": {},
   "outputs": [
    {
     "name": "stdout",
     "output_type": "stream",
     "text": [
      "17.566622516556297\n",
      "175.99\n",
      "1.31\n"
     ]
    }
   ],
   "source": [
    "print(df['Item_Price'].mean())\n",
    "print(df['Item_Price'].max())\n",
    "print(df['Item_Price'].min())"
   ]
  }
 ],
 "metadata": {
  "kernelspec": {
   "display_name": "Python 3",
   "language": "python",
   "name": "python3"
  },
  "language_info": {
   "codemirror_mode": {
    "name": "ipython",
    "version": 3
   },
   "file_extension": ".py",
   "mimetype": "text/x-python",
   "name": "python",
   "nbconvert_exporter": "python",
   "pygments_lexer": "ipython3",
   "version": "3.7.0"
  }
 },
 "nbformat": 4,
 "nbformat_minor": 2
}
